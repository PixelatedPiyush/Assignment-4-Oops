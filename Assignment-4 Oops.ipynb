{
 "cells": [
  {
   "cell_type": "markdown",
   "id": "0cef1635-d633-47f3-9837-76f96760ac9d",
   "metadata": {},
   "source": [
    "# Assignment-4 Oops "
   ]
  },
  {
   "cell_type": "markdown",
   "id": "a91a43cd-5d61-43be-aadd-7761f2847d6e",
   "metadata": {},
   "source": [
    "#### Q1. What are the five key concepts of Object-Oriented Programming (OOP)?"
   ]
  },
  {
   "cell_type": "markdown",
   "id": "0d400a01-b8d3-4e68-8ae8-9b389a4d9eb2",
   "metadata": {},
   "source": [
    "#### Ans: \n",
    "#### The five key concepts of Object-Oriented Programming (OOP) are:\n",
    "\n",
    "#### 1) Encapsulation: This refers to the bundling of data (attributes) and methods (functions) that operate on the data into a single unit called a class. It also involves restricting access to some of an object's components, which helps to prevent accidental interference and misuse of data."
   ]
  },
  {
   "cell_type": "markdown",
   "id": "ae409fbb-00fb-4086-939d-178ec64cf8f7",
   "metadata": {},
   "source": [
    "#### 2) Abstraction: Abstraction hides the complex implementation details and shows only the necessary features of an object. It allows programmers to interact with objects at a high level, without needing to understand their internal workings."
   ]
  },
  {
   "cell_type": "markdown",
   "id": "0c7bb07b-fef9-466d-b8d1-49daa0bf4e03",
   "metadata": {},
   "source": [
    "#### 3) Inheritance: Inheritance is the mechanism by which one class can inherit the attributes and methods of another class. It allows for code reuse and establishes a relationship between parent (superclass) and child (subclass) classes."
   ]
  },
  {
   "cell_type": "markdown",
   "id": "286ad7bb-0cb9-473a-8809-835b66c66385",
   "metadata": {},
   "source": [
    "#### 4) Polymorphism: Polymorphism allows objects of different classes to be treated as objects of a common superclass. It enables the same method to behave differently based on the object it is acting upon, either through method overriding or method overloading."
   ]
  },
  {
   "cell_type": "markdown",
   "id": "5247a04f-1c45-4e26-8aa9-486fb5fe3dbd",
   "metadata": {},
   "source": [
    "#### 5) Association: Association defines the relationship between two or more objects. It specifies how objects are connected to each other, whether through one-to-one, one-to-many, or many-to-many relationships."
   ]
  },
  {
   "cell_type": "markdown",
   "id": "7fe5cc27-e311-4d07-a2e2-9f596543b10b",
   "metadata": {},
   "source": [
    "#### Q2. Write a Python class for a `Car` with attributes for `make`, `model`, and `year`. Include a method to display the car's information."
   ]
  },
  {
   "cell_type": "code",
   "execution_count": 6,
   "id": "d16be667-8ff7-4ffa-bf1c-54a0baa9a248",
   "metadata": {},
   "outputs": [],
   "source": [
    "class Car:\n",
    "    def __init__(self, make, model, year):\n",
    "        self.make = make\n",
    "        self.model = model\n",
    "        self.year = year\n",
    "    def make(self):\n",
    "        print(\"The car is made by: \",self.make)\n",
    "    def model(self):\n",
    "        print(\"The model of car is: \",self.model)\n",
    "    def year(self):\n",
    "        print(\"The year of manufacturation is: \",self.year)\n",
    "car = Car(\"Maruti\", \"Brezza\", \"2016\")"
   ]
  },
  {
   "cell_type": "code",
   "execution_count": 7,
   "id": "2c8829fc-be2b-4351-8d59-f5b689b808ae",
   "metadata": {},
   "outputs": [
    {
     "data": {
      "text/plain": [
       "'Maruti'"
      ]
     },
     "execution_count": 7,
     "metadata": {},
     "output_type": "execute_result"
    }
   ],
   "source": [
    "car.make"
   ]
  },
  {
   "cell_type": "code",
   "execution_count": 8,
   "id": "19c5c0ad-5fe2-41fb-88c6-fd815f5182c0",
   "metadata": {},
   "outputs": [
    {
     "data": {
      "text/plain": [
       "'Brezza'"
      ]
     },
     "execution_count": 8,
     "metadata": {},
     "output_type": "execute_result"
    }
   ],
   "source": [
    "car.model"
   ]
  },
  {
   "cell_type": "code",
   "execution_count": 9,
   "id": "20801b70-619d-4f44-86a2-5b1721f6e147",
   "metadata": {},
   "outputs": [
    {
     "data": {
      "text/plain": [
       "'2016'"
      ]
     },
     "execution_count": 9,
     "metadata": {},
     "output_type": "execute_result"
    }
   ],
   "source": [
    "car.year"
   ]
  },
  {
   "cell_type": "markdown",
   "id": "34881f78-b563-4af0-8606-f84e5b289680",
   "metadata": {},
   "source": [
    "#### Q3. Explain the difference between instance methods and class methods. Provide an example of each."
   ]
  },
  {
   "cell_type": "markdown",
   "id": "0cbb9d97-7007-41d5-840e-e384ae9d5f70",
   "metadata": {},
   "source": [
    "#### Ans: \n",
    "#### 1) Instance Methods:\n",
    "#### Definition: Instance methods are functions that belong to an instance of the class. They are called on an object created from the class and can access and modify the instance's attributes (variables) and call other instance methods.\n",
    "#### How they work: Instance methods operate on individual objects and take self (in Python) or this (in Java/C++) as the first parameter, which refers to the current instance of the class.\n",
    "#### When to use: Use instance methods when you need to operate on the attributes of a specific object."
   ]
  },
  {
   "cell_type": "code",
   "execution_count": 10,
   "id": "dc413256-0a6b-4e9e-80de-bdeb8ea11d8c",
   "metadata": {},
   "outputs": [
    {
     "name": "stdout",
     "output_type": "stream",
     "text": [
      "Buddy says woof!\n"
     ]
    }
   ],
   "source": [
    "#ex:\n",
    "class Dog:\n",
    "    def __init__(self, name, age):\n",
    "        self.name = name\n",
    "        self.age = age\n",
    "    \n",
    "    def speak(self):\n",
    "        print(f\"{self.name} says woof!\")\n",
    "\n",
    "# Creating an instance of Dog\n",
    "dog1 = Dog(\"Buddy\", 3)\n",
    "dog1.speak()  # Output: Buddy says woof!"
   ]
  },
  {
   "cell_type": "markdown",
   "id": "ad82edfd-4e5f-4ce2-9a87-7f3dbe1b05f0",
   "metadata": {},
   "source": [
    "#### 2. Class Methods:\n",
    "#### Definition: Class methods belong to the class itself, rather than an instance of the class. They are defined using a decorator like @classmethod (in Python) or the @staticmethod annotation (in some languages), and they take cls (in Python) or the class reference (in other languages) as their first parameter.\n",
    "#### How they work: Class methods can access and modify class-level attributes, but they do not have access to instance-specific attributes unless an instance is explicitly passed.\n",
    "#### When to use: Use class methods when you need to operate on the class-level data, rather than the data specific to an instance."
   ]
  },
  {
   "cell_type": "code",
   "execution_count": 12,
   "id": "dc745d29-cdb9-408a-a027-84206bfcc44a",
   "metadata": {},
   "outputs": [
    {
     "name": "stdout",
     "output_type": "stream",
     "text": [
      "Species: Canine\n"
     ]
    }
   ],
   "source": [
    "#ex: \n",
    "class Dog:\n",
    "    species = \"Canine\"  # Class attribute\n",
    "    \n",
    "    def __init__(self, name, age):\n",
    "        self.name = name\n",
    "        self.age = age\n",
    "    \n",
    "    @classmethod\n",
    "    def print_species(cls):\n",
    "        print(f\"Species: {cls.species}\")\n",
    "\n",
    "# Calling the class method\n",
    "Dog.print_species()  # Output: Species: Canine\n"
   ]
  },
  {
   "cell_type": "markdown",
   "id": "9d6d3e86-ec3d-4e7f-b4eb-77be8b361ea1",
   "metadata": {},
   "source": [
    "#### Key Differences:\n",
    "#### Instance Methods: Operate on specific instances of the class, and they can access instance attributes and other instance methods.\n",
    "#### Class Methods: Operate on the class itself and can access class-level attributes and methods, but not instance-level data unless passed."
   ]
  },
  {
   "cell_type": "markdown",
   "id": "87ec56f3-7daa-4f24-bc33-24959b344b5d",
   "metadata": {},
   "source": [
    "#### Q4. How does Python implement method overloading? Give an example."
   ]
  },
  {
   "cell_type": "markdown",
   "id": "fb3d9934-b5bb-480f-9150-8384c7e9fb49",
   "metadata": {},
   "source": [
    "#### Ans: \n",
    "#### Python does not directly support method overloading in the same way as languages like Java or C++. Instead, Python provides a more flexible approach where multiple methods with the same name are not allowed within the same class. However, method overloading in Python can be achieved by default arguments, variable-length arguments, or using a decorator like @overload (from the typing module, but only for type hinting purposes).\n",
    "#### How Python Simulates Method Overloading:\n",
    "#### Default Arguments: You can define a method with default values for some parameters. This allows the method to behave differently based on the number of arguments passed.\n",
    "\n",
    "#### Variable-Length Arguments (*args and **kwargs): These allow the method to accept an arbitrary number of positional and keyword arguments, making it possible to handle different types and numbers of arguments dynamically."
   ]
  },
  {
   "cell_type": "code",
   "execution_count": 14,
   "id": "9e55e694-0a23-4024-9068-78fb0e00425b",
   "metadata": {},
   "outputs": [
    {
     "name": "stdout",
     "output_type": "stream",
     "text": [
      "2\n",
      "5\n",
      "9\n"
     ]
    }
   ],
   "source": [
    "class MathOperations:\n",
    "    def add(self, a, b=0, c=0):\n",
    "        return a + b + c\n",
    "\n",
    "# Creating an instance of MathOperations\n",
    "math_obj = MathOperations()\n",
    "\n",
    "# Calling the method with different numbers of arguments\n",
    "print(math_obj.add(2))       # Output: 2 (a=2, b=0, c=0)\n",
    "print(math_obj.add(2, 3))    # Output: 5 (a=2, b=3, c=0)\n",
    "print(math_obj.add(2, 3, 4)) # Output: 9 (a=2, b=3, c=4)\n"
   ]
  },
  {
   "cell_type": "markdown",
   "id": "a4f6f1a7-37b9-4965-8895-fa6176a963c5",
   "metadata": {},
   "source": [
    "#### Q5. What are the three types of access modifiers in Python? How are they denoted?"
   ]
  },
  {
   "cell_type": "markdown",
   "id": "682fd9d1-a011-4b5c-98c4-03c41b9e7e23",
   "metadata": {},
   "source": [
    "#### Ans: \n",
    "#### 1. Public Access Modifier:\n",
    "#### Description: Public members (attributes or methods) are accessible from anywhere, both inside and outside the class. By default, all members in a class are public unless explicitly stated otherwise.\n",
    "#### Denoted by: No underscore before the attribute or method name."
   ]
  },
  {
   "cell_type": "code",
   "execution_count": 15,
   "id": "65a57151-8523-4e07-bfa1-e67103d77be1",
   "metadata": {},
   "outputs": [
    {
     "name": "stdout",
     "output_type": "stream",
     "text": [
      "10\n",
      "This is a public method.\n"
     ]
    }
   ],
   "source": [
    "class MyClass:\n",
    "    def __init__(self):\n",
    "        self.public_attribute = 10  # Public attribute\n",
    "\n",
    "    def public_method(self):\n",
    "        print(\"This is a public method.\")  # Public method\n",
    "\n",
    "# Creating an instance of MyClass\n",
    "obj = MyClass()\n",
    "\n",
    "# Accessing the public attribute and method\n",
    "print(obj.public_attribute)  # Output: 10\n",
    "obj.public_method()          # Output: This is a public method.\n"
   ]
  },
  {
   "cell_type": "markdown",
   "id": "1a098a87-f0b3-46be-a561-b6dc59f1b501",
   "metadata": {},
   "source": [
    "#### 2. Protected Access Modifier:\n",
    "#### Description: Protected members are intended to be accessed only within the class and its subclasses. They are not meant to be accessed directly by code outside the class or subclass, but it is still allowed. It is more of a convention to suggest that the member should not be accessed outside the class.\n",
    "#### Denoted by: A single underscore (_) before the attribute or method name."
   ]
  },
  {
   "cell_type": "code",
   "execution_count": 16,
   "id": "865b2260-ddaa-4fa3-8491-7946a7faa53b",
   "metadata": {},
   "outputs": [
    {
     "name": "stdout",
     "output_type": "stream",
     "text": [
      "20\n",
      "This is a protected method.\n"
     ]
    }
   ],
   "source": [
    "class MyClass:\n",
    "    def __init__(self):\n",
    "        self._protected_attribute = 20  # Protected attribute\n",
    "\n",
    "    def _protected_method(self):\n",
    "        print(\"This is a protected method.\")  # Protected method\n",
    "\n",
    "# Creating an instance of MyClass\n",
    "obj = MyClass()\n",
    "\n",
    "# Accessing the protected attribute and method (though not recommended)\n",
    "print(obj._protected_attribute)  # Output: 20\n",
    "obj._protected_method()          # Output: This is a protected method.\n"
   ]
  },
  {
   "cell_type": "markdown",
   "id": "f051ed37-863f-4301-82df-9546f18f3b0c",
   "metadata": {},
   "source": [
    "#### 3. Private Access Modifier:\n",
    "#### Description: Private members are intended to be accessed only within the class itself and are not accessible from outside the class or its subclasses. Private members are more strictly restricted compared to protected members.\n",
    "#### Denoted by: A double underscore (__) before the attribute or method name."
   ]
  },
  {
   "cell_type": "code",
   "execution_count": 17,
   "id": "e5aeec90-52b0-4733-8666-cf75dc5620c6",
   "metadata": {},
   "outputs": [
    {
     "name": "stdout",
     "output_type": "stream",
     "text": [
      "30\n",
      "This is a private method.\n"
     ]
    }
   ],
   "source": [
    "class MyClass:\n",
    "    def __init__(self):\n",
    "        self.__private_attribute = 30  # Private attribute\n",
    "\n",
    "    def __private_method(self):\n",
    "        print(\"This is a private method.\")  # Private method\n",
    "\n",
    "# Creating an instance of MyClass\n",
    "obj = MyClass()\n",
    "\n",
    "# Trying to access the private attribute and method (will raise an AttributeError)\n",
    "# print(obj.__private_attribute)  # This will raise an AttributeError\n",
    "# obj.__private_method()          # This will raise an AttributeError\n",
    "\n",
    "# Accessing private members using name mangling (not recommended)\n",
    "print(obj._MyClass__private_attribute)  # Output: 30\n",
    "obj._MyClass__private_method()         # Output: This is a private method.\n"
   ]
  },
  {
   "cell_type": "markdown",
   "id": "977ebccf-c5e7-43bc-9bcc-fbeeff9789dd",
   "metadata": {},
   "source": [
    "#### Key Differences:\n",
    "#### Public: Accessible from anywhere (no underscores).\n",
    "#### Protected: Intended for internal use and inheritance (single underscore _).\n",
    "#### Private: Intended for internal use only (double underscore __)"
   ]
  },
  {
   "cell_type": "markdown",
   "id": "a2146f63-a924-445a-b856-39bba57f5e77",
   "metadata": {},
   "source": [
    "#### Q6. Describe the five types of inheritance in Python. Provide a simple example of multiple inheritance."
   ]
  },
  {
   "cell_type": "markdown",
   "id": "28171240-3761-477e-9d2b-230aeec9ec63",
   "metadata": {},
   "source": [
    "#### Ans: \n",
    "#### 1. Single Inheritance:\n",
    "#### Definition: In single inheritance, a class inherits from a single parent class."
   ]
  },
  {
   "cell_type": "code",
   "execution_count": 18,
   "id": "72770cb3-42da-4749-a3b9-18266ebb1a68",
   "metadata": {},
   "outputs": [
    {
     "name": "stdout",
     "output_type": "stream",
     "text": [
      "Animal speaks\n",
      "Dog barks\n"
     ]
    }
   ],
   "source": [
    "#ex: \n",
    "class Animal:\n",
    "    def speak(self):\n",
    "        print(\"Animal speaks\")\n",
    "\n",
    "class Dog(Animal):  # Dog is inheriting from Animal\n",
    "    def bark(self):\n",
    "        print(\"Dog barks\")\n",
    "\n",
    "dog = Dog()\n",
    "dog.speak()  # Inherited method\n",
    "dog.bark()   # Method in Dog class"
   ]
  },
  {
   "cell_type": "markdown",
   "id": "9b23b022-473a-4666-9cf6-c18d26fdfe32",
   "metadata": {},
   "source": [
    "#### 2. Multiple Inheritance:\n",
    "#### Definition: In multiple inheritance, a class inherits from more than one parent class. This allows the child class to access methods and attributes from all the parent classes."
   ]
  },
  {
   "cell_type": "code",
   "execution_count": 19,
   "id": "4a2e0116-e569-4048-9815-9906901ce762",
   "metadata": {},
   "outputs": [
    {
     "name": "stdout",
     "output_type": "stream",
     "text": [
      "Animal speaks\n",
      "Mammal breathes\n",
      "Dog barks\n"
     ]
    }
   ],
   "source": [
    "#ex:\n",
    "class Animal:\n",
    "    def speak(self):\n",
    "        print(\"Animal speaks\")\n",
    "\n",
    "class Mammal:\n",
    "    def breathe(self):\n",
    "        print(\"Mammal breathes\")\n",
    "\n",
    "class Dog(Animal, Mammal):  # Dog inherits from both Animal and Mammal\n",
    "    def bark(self):\n",
    "        print(\"Dog barks\")\n",
    "\n",
    "dog = Dog()\n",
    "dog.speak()   # Inherited from Animal\n",
    "dog.breathe() # Inherited from Mammal\n",
    "dog.bark()    # Method in Dog class"
   ]
  },
  {
   "cell_type": "markdown",
   "id": "97e27566-370f-445a-b6ef-6b7b696463c0",
   "metadata": {},
   "source": [
    "#### 3. Multilevel Inheritance:\n",
    "#### Definition: In multilevel inheritance, a class inherits from a class, which itself is derived from another class. This forms a chain of inheritance."
   ]
  },
  {
   "cell_type": "code",
   "execution_count": 22,
   "id": "dca69862-4f29-4cb3-9c9d-14663cd2685a",
   "metadata": {},
   "outputs": [
    {
     "name": "stdout",
     "output_type": "stream",
     "text": [
      "Animal speaks\n",
      "Mammal breathes\n",
      "Dog barks\n"
     ]
    }
   ],
   "source": [
    "#ex:\n",
    "class Animal:\n",
    "    def speak(self):\n",
    "        print(\"Animal speaks\")\n",
    "\n",
    "class Mammal(Animal):  # Mammal inherits from Animal\n",
    "    def breathe(self):\n",
    "        print(\"Mammal breathes\")\n",
    "\n",
    "class Dog(Mammal):  # Dog inherits from Mammal (which inherits from Animal)\n",
    "    def bark(self):\n",
    "        print(\"Dog barks\")\n",
    "\n",
    "dog = Dog()\n",
    "dog.speak()   # Inherited from Animal\n",
    "dog.breathe() # Inherited from Mammal\n",
    "dog.bark()    # Method in Dog class"
   ]
  },
  {
   "cell_type": "markdown",
   "id": "25c40299-4e70-4548-9dce-c1303d337454",
   "metadata": {},
   "source": [
    "#### 4. Hierarchical Inheritance:\n",
    "#### Definition: In hierarchical inheritance, multiple classes inherit from a single parent class. All child classes share the properties and behaviors of the parent class."
   ]
  },
  {
   "cell_type": "code",
   "execution_count": 23,
   "id": "36add23b-30d0-4405-ad43-3a90e47699b5",
   "metadata": {},
   "outputs": [
    {
     "name": "stdout",
     "output_type": "stream",
     "text": [
      "Animal speaks\n",
      "Dog barks\n",
      "Animal speaks\n",
      "Cat meows\n"
     ]
    }
   ],
   "source": [
    "#ex: \n",
    "class Animal:\n",
    "    def speak(self):\n",
    "        print(\"Animal speaks\")\n",
    "\n",
    "class Dog(Animal):  # Dog inherits from Animal\n",
    "    def bark(self):\n",
    "        print(\"Dog barks\")\n",
    "\n",
    "class Cat(Animal):  # Cat inherits from Animal\n",
    "    def meow(self):\n",
    "        print(\"Cat meows\")\n",
    "\n",
    "dog = Dog()\n",
    "dog.speak()  # Inherited from Animal\n",
    "dog.bark()\n",
    "\n",
    "cat = Cat()\n",
    "cat.speak()  # Inherited from Animal\n",
    "cat.meow()\n"
   ]
  },
  {
   "cell_type": "markdown",
   "id": "79abeee5-c4d0-42a3-b19a-01493687f9cf",
   "metadata": {},
   "source": [
    "#### 5. Hybrid Inheritance:\n",
    "#### Definition: Hybrid inheritance is a combination of two or more types of inheritance. For example, it can be a mix of multiple and multilevel inheritance, which can lead to a complex class hierarchy."
   ]
  },
  {
   "cell_type": "code",
   "execution_count": 24,
   "id": "335704f2-108f-4997-9fc6-25228e363bf0",
   "metadata": {},
   "outputs": [
    {
     "name": "stdout",
     "output_type": "stream",
     "text": [
      "Animal speaks\n",
      "Mammal breathes\n",
      "Bird flies\n",
      "Bat hangs upside down\n"
     ]
    }
   ],
   "source": [
    "#ex:\n",
    "class Animal:\n",
    "    def speak(self):\n",
    "        print(\"Animal speaks\")\n",
    "\n",
    "class Mammal(Animal):\n",
    "    def breathe(self):\n",
    "        print(\"Mammal breathes\")\n",
    "\n",
    "class Bird(Animal):\n",
    "    def fly(self):\n",
    "        print(\"Bird flies\")\n",
    "\n",
    "class Bat(Mammal, Bird):  # Bat inherits from both Mammal and Bird\n",
    "    def hang(self):\n",
    "        print(\"Bat hangs upside down\")\n",
    "\n",
    "bat = Bat()\n",
    "bat.speak()  # Inherited from Animal\n",
    "bat.breathe() # Inherited from Mammal\n",
    "bat.fly()    # Inherited from Bird\n",
    "bat.hang()   # Method in Bat class\n"
   ]
  },
  {
   "cell_type": "markdown",
   "id": "a066d284-3439-4e2a-ac88-369c16452b66",
   "metadata": {},
   "source": [
    "#### Example of Multiple Inheritance:\n",
    "#### In multiple inheritance, a class can inherit from two or more parent classes. Here's a simple example of multiple inheritance in Python:"
   ]
  },
  {
   "cell_type": "code",
   "execution_count": 27,
   "id": "b5e0d882-0981-4154-bd9a-d43c286fc76c",
   "metadata": {},
   "outputs": [
    {
     "name": "stdout",
     "output_type": "stream",
     "text": [
      "Hello, my name is John\n",
      "Employee 12345 is working\n",
      "Manager John is managing the team\n"
     ]
    }
   ],
   "source": [
    "class Person:\n",
    "    def __init__(self, name):\n",
    "        self.name = name\n",
    "\n",
    "    def greet(self):\n",
    "        print(f\"Hello, my name is {self.name}\")\n",
    "\n",
    "class Employee:\n",
    "    def __init__(self, employee_id):\n",
    "        self.employee_id = employee_id\n",
    "\n",
    "    def work(self):\n",
    "        print(f\"Employee {self.employee_id} is working\")\n",
    "\n",
    "class Manager(Person, Employee):  # Manager inherits from both Person and Employee\n",
    "    def __init__(self, name, employee_id):\n",
    "        Person.__init__(self, name)  # Initialize Person class\n",
    "        Employee.__init__(self, employee_id)  # Initialize Employee class\n",
    "\n",
    "    def manage(self):\n",
    "        print(f\"Manager {self.name} is managing the team\")\n",
    "\n",
    "# Creating an instance of Manager\n",
    "manager = Manager(\"John\", 12345)\n",
    "manager.greet()    # Inherited from Person\n",
    "manager.work()     # Inherited from Employee\n",
    "manager.manage()   # Method in Manager class"
   ]
  },
  {
   "cell_type": "markdown",
   "id": "768a01c3-64b2-4e93-bcd1-9cf77efde575",
   "metadata": {},
   "source": [
    "#### Summary of Inheritance Types:\n",
    "#### Single Inheritance: A class inherits from one parent class.\n",
    "#### Multiple Inheritance: A class inherits from more than one parent class.\n",
    "#### Multilevel Inheritance: A class inherits from another class, which itself is derived from another class.\n",
    "#### Hierarchical Inheritance: Multiple classes inherit from a single parent class.\n",
    "#### Hybrid Inheritance: A combination of two or more types of inheritance."
   ]
  },
  {
   "cell_type": "markdown",
   "id": "1c63da3d-d5a2-4c53-b1a0-91e6ca62236d",
   "metadata": {},
   "source": [
    "#### Q7. What is the Method Resolution Order (MRO) in Python? How can you retrieve it programmatically?"
   ]
  },
  {
   "cell_type": "markdown",
   "id": "29580eee-6ee1-4917-a1f5-fed3236e770b",
   "metadata": {},
   "source": [
    "#### Ans:\n",
    "#### Method Resolution Order (MRO) in Python\n",
    "#### The Method Resolution Order (MRO) is the order in which Python searches for a method or attribute in a class hierarchy. It is particularly important in the case of multiple inheritance, where a class inherits from more than one parent class. The MRO determines the order in which base classes are checked when trying to access a method or attribute of an object.\n",
    "\n",
    "#### The MRO is governed by the C3 Linearization algorithm, which ensures a consistent and unambiguous order for method lookup. This order is based on the inheritance hierarchy, with classes being searched from left to right, and follows certain rules to maintain the integrity of the inheritance structure.\n",
    "#### Key Points:\n",
    "#### In single inheritance, the MRO is simply the class itself and its parent class, in that order.\n",
    "#### In multiple inheritance, Python resolves the method lookup by searching through the classes in the order defined by the MRO.\n",
    "#### The MRO ensures that the method resolution respects both the inheritance order and the method's position in the inheritance chain."
   ]
  },
  {
   "cell_type": "code",
   "execution_count": 28,
   "id": "23e54e36-0a4b-43e9-a093-ec7fa11d7120",
   "metadata": {},
   "outputs": [],
   "source": [
    "#ex:\n",
    "class A:\n",
    "    def method(self):\n",
    "        print(\"Method in A\")\n",
    "\n",
    "class B(A):\n",
    "    def method(self):\n",
    "        print(\"Method in B\")\n",
    "\n",
    "class C(A):\n",
    "    def method(self):\n",
    "        print(\"Method in C\")\n",
    "\n",
    "class D(B, C):\n",
    "    pass"
   ]
  },
  {
   "cell_type": "markdown",
   "id": "6bb71d08-d868-4d2a-837d-cdfc550a0418",
   "metadata": {},
   "source": [
    "#### So, Python will first search in class D, then in class B, and if not found, it will check class C, and finally class A."
   ]
  },
  {
   "cell_type": "markdown",
   "id": "4033ae41-182c-40fd-ba00-13896d9a3add",
   "metadata": {},
   "source": [
    "#### How to Retrieve the MRO Programmatically\n",
    "#### Python provides a way to retrieve the MRO using the mro() method or the __mro__ attribute, both of which give the method resolution order of a class."
   ]
  },
  {
   "cell_type": "code",
   "execution_count": 29,
   "id": "4dffebd8-510b-48a1-9d69-a61b07f5bc3b",
   "metadata": {},
   "outputs": [
    {
     "name": "stdout",
     "output_type": "stream",
     "text": [
      "Method in B\n",
      "[<class '__main__.D'>, <class '__main__.B'>, <class '__main__.C'>, <class '__main__.A'>, <class 'object'>]\n",
      "(<class '__main__.D'>, <class '__main__.B'>, <class '__main__.C'>, <class '__main__.A'>, <class 'object'>)\n"
     ]
    }
   ],
   "source": [
    "#ex:\n",
    "class A:\n",
    "    def method(self):\n",
    "        print(\"Method in A\")\n",
    "\n",
    "class B(A):\n",
    "    def method(self):\n",
    "        print(\"Method in B\")\n",
    "\n",
    "class C(A):\n",
    "    def method(self):\n",
    "        print(\"Method in C\")\n",
    "\n",
    "class D(B, C):\n",
    "    pass\n",
    "\n",
    "# Create an instance of D\n",
    "d = D()\n",
    "\n",
    "# Call the method, it will follow the MRO\n",
    "d.method()  # Output: Method in B\n",
    "\n",
    "# Print MRO of class D\n",
    "print(D.mro())  # [<class '__main__.D'>, <class '__main__.B'>, <class '__main__.C'>, <class '__main__.A'>, <class 'object'>]\n",
    "print(D.__mro__)  # (<class '__main__.D'>, <class '__main__.B'>, <class '__main__.C'>, <class '__main__.A'>, <class 'object'>)\n"
   ]
  },
  {
   "cell_type": "markdown",
   "id": "b5b461b9-d8a5-4e3c-987a-63a07f2769fb",
   "metadata": {},
   "source": [
    "#### Summary:\n",
    "#### MRO defines the order in which base classes are searched for a method or attribute.\n",
    "#### You can retrieve the MRO of a class using mro() or the __mro__ attribute.\n",
    "#### Python's MRO follows the C3 Linearization algorithm, ensuring consistency and a well-defined order in case of multiple inheritance."
   ]
  },
  {
   "cell_type": "markdown",
   "id": "0d6cfe8f-f3fb-40f3-86a0-557483cdb2b6",
   "metadata": {},
   "source": [
    "#### Q8. Create an abstract base class `Shape` with an abstract method `area()`. Then create two subclasses `Circle` and `Rectangle` that implement the `area()` method."
   ]
  },
  {
   "cell_type": "code",
   "execution_count": 30,
   "id": "8f6f6bf2-570a-4ff4-9cf7-563b3b8f447c",
   "metadata": {},
   "outputs": [
    {
     "name": "stdout",
     "output_type": "stream",
     "text": [
      "Area of circle: 78.53981633974483\n",
      "Area of rectangle: 24\n"
     ]
    }
   ],
   "source": [
    "#Ans:\n",
    "from abc import ABC, abstractmethod\n",
    "import math\n",
    "\n",
    "# Abstract base class Shape\n",
    "class Shape(ABC):\n",
    "    @abstractmethod\n",
    "    def area(self):\n",
    "        pass\n",
    "\n",
    "# Subclass Circle\n",
    "class Circle(Shape):\n",
    "    def __init__(self, radius):\n",
    "        self.radius = radius\n",
    "\n",
    "    def area(self):\n",
    "        return math.pi * self.radius ** 2\n",
    "\n",
    "# Subclass Rectangle\n",
    "class Rectangle(Shape):\n",
    "    def __init__(self, width, height):\n",
    "        self.width = width\n",
    "        self.height = height\n",
    "\n",
    "    def area(self):\n",
    "        return self.width * self.height\n",
    "\n",
    "# Create instances of Circle and Rectangle\n",
    "circle = Circle(5)\n",
    "rectangle = Rectangle(4, 6)\n",
    "\n",
    "# Calculate and print areas\n",
    "print(f\"Area of circle: {circle.area()}\")       \n",
    "print(f\"Area of rectangle: {rectangle.area()}\")  "
   ]
  },
  {
   "cell_type": "markdown",
   "id": "dec917f1-78ef-492e-995f-1b1d9522d4c5",
   "metadata": {},
   "source": [
    "#### Q9. Demonstrate polymorphism by creating a function that can work with different shape objects to calculate and print their areas."
   ]
  },
  {
   "cell_type": "markdown",
   "id": "1d7903bb-5253-4f19-a658-eba423a2e6bc",
   "metadata": {},
   "source": [
    "#### Ans:\n",
    "#### Polymorphism in object-oriented programming allows different classes to define methods that share the same name but may behave differently depending on the object type. In this case, we will create a function that calculates and prints the area of different shape objects (like Circle and Rectangle) without knowing their exact types in advance.\n",
    "#### 1. We'll reuse the Shape, Circle, and Rectangle classes from the previous example.\n",
    "#### 2. Define a function that takes any Shape object and calls its area() method."
   ]
  },
  {
   "cell_type": "code",
   "execution_count": 33,
   "id": "0e778e17-a6fa-4b7d-b68a-8beb8213e174",
   "metadata": {},
   "outputs": [
    {
     "name": "stdout",
     "output_type": "stream",
     "text": [
      "Area of the shape: 314.1592653589793\n",
      "Area of the shape: 28\n"
     ]
    }
   ],
   "source": [
    "#ex:\n",
    "from abc import ABC, abstractmethod\n",
    "import math\n",
    "\n",
    "# Abstract base class Shape\n",
    "class Shape(ABC):\n",
    "    @abstractmethod\n",
    "    def area(self):\n",
    "        pass\n",
    "\n",
    "# Subclass Circle\n",
    "class Circle(Shape):\n",
    "    def __init__(self, radius):\n",
    "        self.radius = radius\n",
    "\n",
    "    def area(self):\n",
    "        return math.pi * self.radius ** 2\n",
    "\n",
    "# Subclass Rectangle\n",
    "class Rectangle(Shape):\n",
    "    def __init__(self, width, height):\n",
    "        self.width = width\n",
    "        self.height = height\n",
    "\n",
    "    def area(self):\n",
    "        return self.width * self.height\n",
    "\n",
    "# Polymorphic function to calculate area of different shapes\n",
    "def print_area(shape: Shape):\n",
    "    print(f\"Area of the shape: {shape.area()}\")\n",
    "\n",
    "# Create instances of Circle and Rectangle\n",
    "circle = Circle(10)\n",
    "rectangle = Rectangle(4, 7)\n",
    "\n",
    "# Call the polymorphic function with different shape objects\n",
    "print_area(circle)    \n",
    "print_area(rectangle)  \n"
   ]
  },
  {
   "cell_type": "markdown",
   "id": "e256b963-694c-4a1a-9e38-07ecdd4e14d1",
   "metadata": {},
   "source": [
    "#### Key Points of Polymorphism:\n",
    "#### Same method name (area()): Both Circle and Rectangle implement the area() method, but they do so differently.\n",
    "#### Flexible function: The print_area() function works with any Shape subclass, demonstrating polymorphism. You don't need to know whether the shape is a Circle, Rectangle, or another subclass when calling the area() method."
   ]
  },
  {
   "cell_type": "markdown",
   "id": "140ad3f4-fcb5-4aea-9730-e027d80620ff",
   "metadata": {},
   "source": [
    "#### Q10. Implement encapsulation in a `BankAccount` class with private attributes for `balance` and `account_number`. Include methods for deposit, withdrawal, and balance inquiry."
   ]
  },
  {
   "cell_type": "markdown",
   "id": "b44083c1-ba1b-4f26-b681-444e6acc45ff",
   "metadata": {},
   "source": [
    "#### Ans: \n",
    "#### Encapsulation is one of the fundamental principles of Object-Oriented Programming (OOP), where an object's data is hidden and accessed through methods. In Python, we achieve encapsulation by using private attributes (denoted by a leading underscore _ or double underscore __ for strict privacy) and providing methods to interact with these attributes.\n",
    "\n",
    "#### Below is an implementation of encapsulation in a BankAccount class with private attributes for balance and account_number. It includes methods for deposit, withdrawal, and balance inquiry."
   ]
  },
  {
   "cell_type": "code",
   "execution_count": 34,
   "id": "878a9ead-7353-4b3c-9d2d-dc4037715458",
   "metadata": {},
   "outputs": [
    {
     "name": "stdout",
     "output_type": "stream",
     "text": [
      "Deposited 500. New balance: 1500\n",
      "Withdrew 200. New balance: 1300\n",
      "Current balance: 1300\n",
      "Account number: 123456789\n"
     ]
    }
   ],
   "source": [
    "#ex:\n",
    "class BankAccount:\n",
    "    def __init__(self, account_number, initial_balance=0):\n",
    "        # Private attributes\n",
    "        self.__account_number = account_number\n",
    "        self.__balance = initial_balance\n",
    "\n",
    "    # Method to deposit money into the account\n",
    "    def deposit(self, amount):\n",
    "        if amount > 0:\n",
    "            self.__balance += amount\n",
    "            print(f\"Deposited {amount}. New balance: {self.__balance}\")\n",
    "        else:\n",
    "            print(\"Deposit amount must be positive.\")\n",
    "\n",
    "    # Method to withdraw money from the account\n",
    "    def withdraw(self, amount):\n",
    "        if amount > 0 and amount <= self.__balance:\n",
    "            self.__balance -= amount\n",
    "            print(f\"Withdrew {amount}. New balance: {self.__balance}\")\n",
    "        elif amount > self.__balance:\n",
    "            print(\"Insufficient balance.\")\n",
    "        else:\n",
    "            print(\"Withdrawal amount must be positive.\")\n",
    "\n",
    "    # Method to check the current balance\n",
    "    def get_balance(self):\n",
    "        return self.__balance\n",
    "\n",
    "    # Method to display account number (for demonstration purposes)\n",
    "    def get_account_number(self):\n",
    "        return self.__account_number\n",
    "\n",
    "\n",
    "# Create an instance of BankAccount\n",
    "account = BankAccount(\"123456789\", 1000)\n",
    "\n",
    "# Deposit money\n",
    "account.deposit(500)\n",
    "\n",
    "# Withdraw money\n",
    "account.withdraw(200)\n",
    "\n",
    "# Check balance\n",
    "print(f\"Current balance: {account.get_balance()}\")\n",
    "\n",
    "# Account number can be retrieved (this is not a recommended practice for real-world apps)\n",
    "print(f\"Account number: {account.get_account_number()}\")"
   ]
  },
  {
   "cell_type": "markdown",
   "id": "3bfe1cb7-1a3e-472f-a5a4-c7b21e3bee0b",
   "metadata": {},
   "source": [
    "#### Benefits of Encapsulation:\n",
    "#### Data Hiding: The internal details of how the account balance is managed are hidden from the user. The user only interacts with the methods provided.\n",
    "#### Controlled Access: The methods allow for controlled and validated access to the private data (e.g., deposit and withdrawal methods validate inputs).\n",
    "#### Maintainability: The code is easier to maintain and less prone to errors since the internal state is not directly manipulated outside the class."
   ]
  },
  {
   "cell_type": "markdown",
   "id": "134aef6f-d53a-4a08-a48a-26cbfb00f198",
   "metadata": {},
   "source": [
    "#### Q11. Write a class that overrides the `__str__` and `__add__` magic methods. What will these methods allow you to do?"
   ]
  },
  {
   "cell_type": "markdown",
   "id": "18d513b1-2fd1-4313-be6b-7e33d2d3a9c5",
   "metadata": {},
   "source": [
    "#### Ans:\n",
    "#### The __str__ and __add__ magic methods in Python allow you to customize the behavior of objects when they are printed (string representation) and when they are added together using the + operator.\n",
    "\n",
    "#### __str__: This method is used to define the string representation of an object. It is called when you use str() on an object or when you print the object. By overriding this method, you can define how an object should be displayed as a string.\n",
    "\n",
    "#### __add__: This method is used to define the behavior of the + operator for objects. It is called when you attempt to add two objects of the class together. You can customize how two objects are added by implementing this method."
   ]
  },
  {
   "cell_type": "code",
   "execution_count": 36,
   "id": "382055ee-6e6f-45ad-9348-3e440e559241",
   "metadata": {},
   "outputs": [
    {
     "name": "stdout",
     "output_type": "stream",
     "text": [
      "Point(2, 3)\n",
      "Point(6, 8)\n"
     ]
    }
   ],
   "source": [
    "#ex:\n",
    "class Point:\n",
    "    def __init__(self, x, y):\n",
    "        self.x = x\n",
    "        self.y = y\n",
    "\n",
    "    # Overriding __str__ to define the string representation of the object\n",
    "    def __str__(self):\n",
    "        return f\"Point({self.x}, {self.y})\"\n",
    "    \n",
    "    # Overriding __add__ to define how two Point objects are added\n",
    "    def __add__(self, other):\n",
    "        if isinstance(other, Point):\n",
    "            return Point(self.x + other.x, self.y + other.y)\n",
    "        return NotImplemented\n",
    "\n",
    "# Create two Point objects\n",
    "p1 = Point(2, 3)\n",
    "p2 = Point(4, 5)\n",
    "\n",
    "# Using the __str__ method (implicitly through print)\n",
    "print(p1)  # Output: Point(2, 3)\n",
    "\n",
    "# Using the __add__ method (implicitly through the + operator)\n",
    "p3 = p1 + p2\n",
    "print(p3)  # Output: Point(6, 8)"
   ]
  },
  {
   "cell_type": "markdown",
   "id": "daec7b7c-ead8-416e-b570-bb3c40138c2c",
   "metadata": {},
   "source": [
    "#### Key Points:\n",
    "#### __str__ gives a human-readable representation of the object, useful for debugging or printing.\n",
    "#### __add__ allows you to define custom addition behavior for objects, making them behave like built-in types for addition."
   ]
  },
  {
   "cell_type": "markdown",
   "id": "b73550c1-f4bf-41e6-830d-aa035568af40",
   "metadata": {},
   "source": [
    "#### Q12. Create a decorator that measures and prints the execution time of a function."
   ]
  },
  {
   "cell_type": "markdown",
   "id": "c06a325f-3842-4093-94c2-9e1af6f47158",
   "metadata": {},
   "source": [
    "#### Ans:\n",
    "#### A decorator in Python is a function that modifies the behavior of another function. To create a decorator that measures and prints the execution time of a function, we can use the time module to record the start and end times of the function's execution.\n",
    "\n",
    "#### Steps:\n",
    "#### Define a decorator function that will accept a function as an argument.\n",
    "#### Inside the decorator, record the time before the function runs and after the function runs.\n",
    "#### Calculate and print the elapsed time."
   ]
  },
  {
   "cell_type": "code",
   "execution_count": 37,
   "id": "90591ff5-00ae-40b7-b957-c15f606ead11",
   "metadata": {},
   "outputs": [
    {
     "name": "stdout",
     "output_type": "stream",
     "text": [
      "Execution time of example_function: 0.070987 seconds\n"
     ]
    },
    {
     "data": {
      "text/plain": [
       "499999500000"
      ]
     },
     "execution_count": 37,
     "metadata": {},
     "output_type": "execute_result"
    }
   ],
   "source": [
    "#ex:\n",
    "import time\n",
    "\n",
    "# Decorator to measure execution time\n",
    "def measure_execution_time(func):\n",
    "    def wrapper(*args, **kwargs):\n",
    "        start_time = time.time()  # Record the start time\n",
    "        result = func(*args, **kwargs)  # Call the original function\n",
    "        end_time = time.time()  # Record the end time\n",
    "        execution_time = end_time - start_time  # Calculate the time difference\n",
    "        print(f\"Execution time of {func.__name__}: {execution_time:.6f} seconds\")\n",
    "        return result\n",
    "    return wrapper\n",
    "\n",
    "# Example function to demonstrate the decorator\n",
    "@measure_execution_time\n",
    "def example_function():\n",
    "    total = 0\n",
    "    for i in range(1, 1000000):\n",
    "        total += i\n",
    "    return total\n",
    "\n",
    "# Call the decorated function\n",
    "example_function()"
   ]
  },
  {
   "cell_type": "markdown",
   "id": "7884b9ef-55ef-4d26-8c02-73c3e0e3a162",
   "metadata": {},
   "source": [
    "#### Key Points:\n",
    "#### *args and **kwargs: These are used to pass any arguments or keyword arguments from the wrapper function to the original function, ensuring that the decorator works with functions that take any number of arguments.\n",
    "#### time.time(): This method returns the current time in seconds since the epoch (as a floating-point number), which is useful for measuring elapsed time."
   ]
  },
  {
   "cell_type": "markdown",
   "id": "1665698b-d500-45b8-a684-6221e28d33fc",
   "metadata": {},
   "source": [
    "#### Q13. Explain the concept of the Diamond Problem in multiple inheritance. How does Python resolve it?"
   ]
  },
  {
   "cell_type": "markdown",
   "id": "3c85d90e-2af7-439e-a984-6f8515cc6ea5",
   "metadata": {},
   "source": [
    "#### Ans:\n",
    "#### The Diamond Problem in multiple inheritance occurs when a class inherits from two classes that both inherit from a common base class. This creates a diamond-shaped inheritance structure. The problem arises when the subclasses inherit methods or properties from the common base class, potentially causing ambiguity and conflicts about which method or property should be called when accessed from the subclass."
   ]
  },
  {
   "cell_type": "markdown",
   "id": "cad5cbf5-4688-4fcb-ac3d-9a3df9861681",
   "metadata": {},
   "source": [
    "       A\n",
    "      / \\\n",
    "     B   C\n",
    "      \\ /\n",
    "       D"
   ]
  },
  {
   "cell_type": "code",
   "execution_count": 39,
   "id": "5cd14422-2a6f-48d2-8945-cd1223523711",
   "metadata": {},
   "outputs": [
    {
     "name": "stdout",
     "output_type": "stream",
     "text": [
      "Hello from class B!\n"
     ]
    }
   ],
   "source": [
    "#ex: of Diamond problem\n",
    "class A:\n",
    "    def greet(self):\n",
    "        print(\"Hello from class A!\")\n",
    "\n",
    "class B(A):\n",
    "    def greet(self):\n",
    "        print(\"Hello from class B!\")\n",
    "\n",
    "class C(A):\n",
    "    def greet(self):\n",
    "        print(\"Hello from class C!\")\n",
    "\n",
    "class D(B, C):\n",
    "    pass\n",
    "\n",
    "d = D()\n",
    "d.greet()  # Which greet method will be called?"
   ]
  },
  {
   "cell_type": "markdown",
   "id": "ab3d33a7-aa72-424e-888c-9f2122ec04c9",
   "metadata": {},
   "source": [
    "#### How Python Resolves the Diamond Problem (Method Resolution Order - MRO)\n",
    "#### Python uses a method resolution order (MRO) to decide the order in which classes are searched when invoking a method. This is done through the C3 Linearization algorithm, which ensures that the classes are searched in a predictable and non-ambiguous order.\n",
    "\n",
    "#### Python’s MRO follows these principles:\n",
    "\n",
    "#### Depth-first search: Python searches through the inheritance hierarchy, from the first inherited class to the last.\n",
    "#### Left-to-right: Python respects the order in which classes are listed in the inheritance hierarchy.\n",
    "#### How Python Handles MRO in the Diamond Problem\n",
    "#### In the case of the diamond-shaped inheritance structure, Python’s MRO ensures that the method resolution path avoids ambiguity by specifying the order in which methods are searched.\n",
    "\n",
    "#### You can view the MRO of a class using the mro() method or __mro__ attribute."
   ]
  },
  {
   "cell_type": "code",
   "execution_count": 40,
   "id": "97c16467-ecc2-43d3-8ffe-f6cf028cde64",
   "metadata": {},
   "outputs": [
    {
     "name": "stdout",
     "output_type": "stream",
     "text": [
      "[<class '__main__.D'>, <class '__main__.B'>, <class '__main__.C'>, <class '__main__.A'>, <class 'object'>]\n",
      "Hello from class B!\n"
     ]
    }
   ],
   "source": [
    "#ex: of MRO\n",
    "class A:\n",
    "    def greet(self):\n",
    "        print(\"Hello from class A!\")\n",
    "\n",
    "class B(A):\n",
    "    def greet(self):\n",
    "        print(\"Hello from class B!\")\n",
    "\n",
    "class C(A):\n",
    "    def greet(self):\n",
    "        print(\"Hello from class C!\")\n",
    "\n",
    "class D(B, C):\n",
    "    pass\n",
    "\n",
    "# Check the method resolution order\n",
    "print(D.mro())  # MRO of class D\n",
    "\n",
    "# Create an instance of D\n",
    "d = D()\n",
    "d.greet()  # Which greet method will be called?\n"
   ]
  },
  {
   "cell_type": "markdown",
   "id": "7a3cc6cb-40c0-4916-9d11-0a593cf9370a",
   "metadata": {},
   "source": [
    "#### Summary of Python’s Solution:\n",
    "#### Python uses the C3 Linearization algorithm for MRO, which ensures a consistent and unambiguous method resolution path.\n",
    "#### When there’s a diamond-shaped inheritance structure, Python will search the classes in the order determined by the MRO, avoiding ambiguity.\n",
    "#### The mro() method or __mro__ attribute can be used to inspect the method resolution order.\n",
    "#### In this case, Python resolves the ambiguity by following the MRO and calling the method from B,"
   ]
  },
  {
   "cell_type": "markdown",
   "id": "4264ff46-3651-4456-b466-69bd24845307",
   "metadata": {},
   "source": [
    "#### Q14. Write a class method that keeps track of the number of instances created from a class."
   ]
  },
  {
   "cell_type": "markdown",
   "id": "8d41f340-1d5a-4c11-a758-79775cd212a0",
   "metadata": {},
   "source": [
    "#### Ans:\n",
    "#### To keep track of the number of instances created from a class, you can define a class variable that will be incremented each time an instance of the class is created. You can do this by defining a class method that updates the class variable whenever a new instance is created."
   ]
  },
  {
   "cell_type": "code",
   "execution_count": 41,
   "id": "2bef233c-21a7-4978-91a2-18746bdb6053",
   "metadata": {},
   "outputs": [
    {
     "name": "stdout",
     "output_type": "stream",
     "text": [
      "Number of instances created: 3\n"
     ]
    }
   ],
   "source": [
    "class MyClass:\n",
    "    # Class variable to keep track of instance count\n",
    "    instance_count = 0\n",
    "    \n",
    "    def __init__(self):\n",
    "        # Increment the instance count every time a new instance is created\n",
    "        MyClass.instance_count += 1\n",
    "    \n",
    "    @classmethod\n",
    "    def get_instance_count(cls):\n",
    "        # Class method to return the current instance count\n",
    "        return cls.instance_count\n",
    "\n",
    "# Create instances of MyClass\n",
    "obj1 = MyClass()\n",
    "obj2 = MyClass()\n",
    "obj3 = MyClass()\n",
    "\n",
    "# Get the number of instances created\n",
    "print(\"Number of instances created:\", MyClass.get_instance_count())\n"
   ]
  },
  {
   "cell_type": "markdown",
   "id": "0ec5c814-66f0-42c2-be4f-b7dc3b060d3d",
   "metadata": {},
   "source": [
    "#### Q15. Implement a static method in a class that checks if a given year is a leap year."
   ]
  },
  {
   "cell_type": "markdown",
   "id": "bed546a3-253c-4bbc-aa5f-fff77e4b8ab1",
   "metadata": {},
   "source": [
    "#### Ans:\n",
    "####To implement a static method that checks if a given year is a leap year, you can follow these steps:\n",
    "\n",
    "A static method does not require access to the instance or the class, so it is defined using the @staticmethod decorator.\n",
    "The method will take the year as an argument and implement the leap year rule:\n",
    "A year is a leap year if:\n",
    "It is divisible by 4.\n",
    "However, if it is divisible by 100, it must also be divisible by 400 to be a leap year."
   ]
  }
 ],
 "metadata": {
  "kernelspec": {
   "display_name": "Python 3 (ipykernel)",
   "language": "python",
   "name": "python3"
  },
  "language_info": {
   "codemirror_mode": {
    "name": "ipython",
    "version": 3
   },
   "file_extension": ".py",
   "mimetype": "text/x-python",
   "name": "python",
   "nbconvert_exporter": "python",
   "pygments_lexer": "ipython3",
   "version": "3.12.3"
  }
 },
 "nbformat": 4,
 "nbformat_minor": 5
}
